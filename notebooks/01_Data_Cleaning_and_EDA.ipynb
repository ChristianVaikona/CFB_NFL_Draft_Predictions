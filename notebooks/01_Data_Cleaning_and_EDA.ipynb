{
 "cells": [
  {
   "cell_type": "markdown",
   "id": "dd299384",
   "metadata": {},
   "source": [
    "# NCAA to NFL Draft Predictions – Exploratory Data Analysis (EDA)\n",
    "\n",
    "This notebook explores NCAA player stats, cleans the data, and visualizes key trends related to NFL Draft outcomes."
   ]
  },
  {
   "cell_type": "markdown",
   "id": "f6e3908b",
   "metadata": {},
   "source": [
    "## 1. Import Libraries"
   ]
  },
  {
   "cell_type": "code",
   "execution_count": 2,
   "id": "75cc4b57",
   "metadata": {},
   "outputs": [],
   "source": [
    "import pandas as pd\n",
    "import numpy as np\n",
    "import matplotlib.pyplot as plt\n",
    "import seaborn as sns\n",
    "import sqlalchemy\n",
    "\n",
    "# visualization style\n",
    "sns.set_theme(style=\"whitegrid\")\n"
   ]
  },
  {
   "cell_type": "markdown",
   "id": "5628c637",
   "metadata": {},
   "source": [
    "## 2. Load Data"
   ]
  },
  {
   "cell_type": "code",
   "execution_count": 3,
   "id": "64cbff3d",
   "metadata": {},
   "outputs": [],
   "source": [
    "passing = pd.read_csv('../data/raw/CFB_Passing_2021.csv')\n",
    "receiving = pd.read_csv('../data/raw/CFB_Receiving_2021.csv')\n",
    "rushing = pd.read_csv('../data/raw/CFB_Rushing_2021.csv')\n",
    "draft = pd.read_csv('../data/raw/NFL_Draft_2023.csv')"
   ]
  },
  {
   "cell_type": "markdown",
   "id": "5f6ecedf",
   "metadata": {},
   "source": [
    "## 3. Inspect Data\n",
    "- Look at shape, data types, and missing values.\n",
    "- Summarize numeric stats."
   ]
  },
  {
   "cell_type": "code",
   "execution_count": null,
   "id": "d0902c32",
   "metadata": {},
   "outputs": [],
   "source": [
    "passing.info()\n",
    "receiving.info()\n",
    "rushing.info()\n",
    "draft.info()"
   ]
  },
  {
   "cell_type": "markdown",
   "id": "effcc164",
   "metadata": {},
   "source": [
    "## 4a. Cleaning Draft Data\n",
    "- Handle missing values\n",
    "- Rename columns for consistency\n",
    "- Drop duplicates"
   ]
  },
  {
   "cell_type": "code",
   "execution_count": null,
   "id": "053cf879",
   "metadata": {},
   "outputs": [],
   "source": [
    "# Clean draft data: \n",
    "# drop irrelevant columns and rename duplicates for clarity\n",
    "\n",
    "# Make a copy to avoid overwriting the original\n",
    "draft_clean = draft.copy()\n",
    "\n",
    "# Drop empty or irrelevant columns\n",
    "draft_clean = draft_clean.drop(columns=[\n",
    "    # 'To','AP1', 'PB', 'St', 'wAV', 'DrAV', 'Unnamed: 28', '-9999'\n",
    "    ], errors='ignore')\n",
    "\n",
    "# Rename confusing duplicate columns\n",
    "draft_clean = draft_clean.rename(columns={\n",
    "    'Cmp': 'Pass_Cmp',\n",
    "    'Att': 'Pass_Att',\n",
    "    'Yds': 'Pass_Yds',\n",
    "    'TD': 'Pass_TD',\n",
    "    'Int': 'Pass_Int',\n",
    "    'Att.1': 'Rush_Att',\n",
    "    'Yds.1': 'Rush_Yds',\n",
    "    'TD.1': 'Rush_TD',\n",
    "    'Rec': 'Rec_Rec',\n",
    "    'Yds.2': 'Rec_Yds',\n",
    "    'TD.2': 'Rec_TD',\n",
    "    'Int.1': 'Def_Int',\n",
    "})\n",
    "\n",
    "# Check result\n",
    "draft_clean.head()"
   ]
  },
  {
   "cell_type": "markdown",
   "id": "e57c48dc",
   "metadata": {},
   "source": [
    "## 4b. Cleaning Passing Data"
   ]
  },
  {
   "cell_type": "code",
   "execution_count": null,
   "id": "cbd7332d",
   "metadata": {},
   "outputs": [],
   "source": [
    "# Clean passing data: \n",
    "# drop irrelevant columns and rename duplicates for clarity\n",
    "\n",
    "# Make a copy to avoid overwriting the original\n",
    "passing_clean = passing.copy()\n",
    "\n",
    "# Drop empty or irrelevant columns\n",
    "passing_clean = passing_clean.drop(columns=[\n",
    "#  'Rk','Cmp%','TD%','Int%', 'Y/A','AY/A','Y/C','Y/G','Awards','Player-additional'\n",
    "    ], errors='ignore')\n",
    "\n",
    "# Rename confusing duplicate columns\n",
    "passing_clean = passing_clean.rename(columns={\n",
    "    # 'Cmp': 'Pass_Cmp',\n",
    "    # 'Att': 'Pass_Att',\n",
    "    # 'Yds': 'Pass_Yds',\n",
    "    \n",
    "})\n",
    "\n",
    "# Check result\n",
    "passing_clean.head()"
   ]
  },
  {
   "cell_type": "markdown",
   "id": "c1bac028",
   "metadata": {},
   "source": [
    "## 4c. Cleaning Receiving Data"
   ]
  },
  {
   "cell_type": "code",
   "execution_count": null,
   "id": "fa0d62e1",
   "metadata": {},
   "outputs": [],
   "source": [
    "# Clean receiving data: \n",
    "# drop irrelevant columns and rename duplicates for clarity\n",
    "\n",
    "# Make a copy to avoid overwriting the original\n",
    "receiving_clean = receiving.copy()\n",
    "\n",
    "# Drop empty or irrelevant columns\n",
    "receiving_clean = receiving_clean.drop(columns=[\n",
    "#  'Rk','Y/G','Awards','-9999'\n",
    "    ], errors='ignore')\n",
    "\n",
    "# Rename confusing duplicate columns\n",
    "receiving_clean = receiving_clean.rename(columns={\n",
    "    # 'Cmp': 'Pass_Cmp',\n",
    "    # 'Att': 'Pass_Att',\n",
    "    # 'Yds': 'Pass_Yds',\n",
    "    \n",
    "})\n",
    "\n",
    "# Check result\n",
    "receiving_clean.head()"
   ]
  },
  {
   "cell_type": "markdown",
   "id": "1685980c",
   "metadata": {},
   "source": [
    "## 4d. Cleaning Rushing Data"
   ]
  },
  {
   "cell_type": "code",
   "execution_count": null,
   "id": "11d1c92f",
   "metadata": {},
   "outputs": [],
   "source": [
    "# Clean rushing data: \n",
    "# drop irrelevant columns and rename duplicates for clarity\n",
    "\n",
    "# Make a copy to avoid overwriting the original\n",
    "rushing_clean = rushing.copy()\n",
    "\n",
    "# Drop empty or irrelevant columns\n",
    "rushing_clean = rushing_clean.drop(columns=[\n",
    "\n",
    "    ], errors='ignore')\n",
    "\n",
    "# Rename confusing duplicate columns\n",
    "rushing_clean = rushing_clean.rename(columns={\n",
    "    # 'Cmp': 'Pass_Cmp',\n",
    "    # 'Att': 'Pass_Att',\n",
    "    # 'Yds': 'Pass_Yds',\n",
    "    \n",
    "})\n",
    "\n",
    "# Check result\n",
    "rushing_clean.head()"
   ]
  },
  {
   "cell_type": "markdown",
   "id": "bcf56d86",
   "metadata": {},
   "source": [
    "## 5. Next Steps\n",
    "- Clean passing, rushing, and receiving datasets\n",
    "- EDA on college data\n",
    "- Begin exploratory visualizations (e.g., pick vs. yards)\n"
   ]
  }
 ],
 "metadata": {
  "kernelspec": {
   "display_name": "cfb-nfl-draft-predictions",
   "language": "python",
   "name": "python3"
  },
  "language_info": {
   "codemirror_mode": {
    "name": "ipython",
    "version": 3
   },
   "file_extension": ".py",
   "mimetype": "text/x-python",
   "name": "python",
   "nbconvert_exporter": "python",
   "pygments_lexer": "ipython3",
   "version": "3.10.18"
  }
 },
 "nbformat": 4,
 "nbformat_minor": 5
}
