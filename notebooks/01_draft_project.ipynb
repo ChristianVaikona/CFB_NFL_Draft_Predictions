{
 "cells": [
  {
   "cell_type": "code",
   "execution_count": 3,
   "id": "c40ca805",
   "metadata": {},
   "outputs": [
    {
     "name": "stdout",
     "output_type": "stream",
     "text": [
      "Python version: 3.10.18 (main, Jun  5 2025, 08:37:47) [Clang 14.0.6 ]\n",
      "Pandas: 2.3.2\n",
      "NumPy: 2.0.1\n",
      "Matplotlib: 3.10.6\n",
      "Seaborn: 0.13.2\n",
      "scikit-learn: 1.7.2\n",
      "Statsmodels: 0.14.5\n"
     ]
    }
   ],
   "source": [
    "import sys\n",
    "import pandas as pd\n",
    "import numpy as np\n",
    "import matplotlib\n",
    "import seaborn as sns\n",
    "import sklearn\n",
    "import statsmodels.api as sm\n",
    "\n",
    "print(\"Python version:\", sys.version)\n",
    "print(\"Pandas:\", pd.__version__)\n",
    "print(\"NumPy:\", np.__version__)\n",
    "print(\"Matplotlib:\", matplotlib.__version__)\n",
    "print(\"Seaborn:\", sns.__version__)\n",
    "print(\"scikit-learn:\", sklearn.__version__)\n",
    "print(\"Statsmodels:\", sm.__version__)\n"
   ]
  }
 ],
 "metadata": {
  "kernelspec": {
   "display_name": "cfb-nfl-draft-predictions",
   "language": "python",
   "name": "python3"
  },
  "language_info": {
   "codemirror_mode": {
    "name": "ipython",
    "version": 3
   },
   "file_extension": ".py",
   "mimetype": "text/x-python",
   "name": "python",
   "nbconvert_exporter": "python",
   "pygments_lexer": "ipython3",
   "version": "3.10.18"
  }
 },
 "nbformat": 4,
 "nbformat_minor": 5
}
