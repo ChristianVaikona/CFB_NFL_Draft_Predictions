{
 "cells": [
  {
   "cell_type": "markdown",
   "id": "dd299384",
   "metadata": {},
   "source": [
    "# NCAA to NFL Draft Predictions – Exploratory Data Analysis (EDA)\n",
    "\n",
    "This notebook explores NCAA player stats, cleans the data, and visualizes key trends related to NFL Draft outcomes.\n",
    "\n",
    "## Environment Check"
   ]
  },
  {
   "cell_type": "code",
   "execution_count": 3,
   "id": "c40ca805",
   "metadata": {},
   "outputs": [
    {
     "name": "stdout",
     "output_type": "stream",
     "text": [
      "Python version: 3.10.18 (main, Jun  5 2025, 08:37:47) [Clang 14.0.6 ]\n",
      "Pandas: 2.3.2\n",
      "NumPy: 2.0.1\n",
      "Matplotlib: 3.10.6\n",
      "Seaborn: 0.13.2\n",
      "scikit-learn: 1.7.2\n",
      "Statsmodels: 0.14.5\n"
     ]
    }
   ],
   "source": [
    "import sys\n",
    "import pandas as pd\n",
    "import numpy as np\n",
    "import matplotlib\n",
    "import seaborn as sns\n",
    "import sklearn\n",
    "import statsmodels.api as sm\n",
    "\n",
    "print(\"Python version:\", sys.version)\n",
    "print(\"Pandas:\", pd.__version__)\n",
    "print(\"NumPy:\", np.__version__)\n",
    "print(\"Matplotlib:\", matplotlib.__version__)\n",
    "print(\"Seaborn:\", sns.__version__)\n",
    "print(\"scikit-learn:\", sklearn.__version__)\n",
    "print(\"Statsmodels:\", sm.__version__)\n"
   ]
  },
  {
   "cell_type": "markdown",
   "id": "f6e3908b",
   "metadata": {},
   "source": [
    "## 1. Import Libraries"
   ]
  },
  {
   "cell_type": "code",
   "execution_count": 4,
   "id": "75cc4b57",
   "metadata": {},
   "outputs": [],
   "source": [
    "import pandas as pd\n",
    "import numpy as np\n",
    "import matplotlib.pyplot as plt\n",
    "import seaborn as sns\n",
    "\n",
    "# Settings for cleaner visuals\n",
    "sns.set(style=\"whitegrid\")\n",
    "plt.rcParams[\"figure.figsize\"] = (10,6)"
   ]
  },
  {
   "cell_type": "markdown",
   "id": "5628c637",
   "metadata": {},
   "source": [
    "## 2. Load Data"
   ]
  },
  {
   "cell_type": "code",
   "execution_count": null,
   "id": "64cbff3d",
   "metadata": {},
   "outputs": [],
   "source": [
    "# Example: load sample data (replace with actual NCAA stats later)\n",
    "df = pd.read_csv(\"data/raw/sample_cfb_stats.csv\")\n",
    "\n",
    "df.head()"
   ]
  },
  {
   "cell_type": "markdown",
   "id": "5f6ecedf",
   "metadata": {},
   "source": [
    "## 3. Inspect Data\n",
    "- Look at shape, data types, and missing values.\n",
    "- Summarize numeric stats."
   ]
  },
  {
   "cell_type": "code",
   "execution_count": null,
   "id": "d0902c32",
   "metadata": {},
   "outputs": [],
   "source": [
    "print(\"Shape:\", df.shape)\n",
    "print(\"\\nData Types:\\n\", df.dtypes)\n",
    "\n",
    "print(\"\\nMissing Values:\\n\", df.isnull().sum())\n",
    "\n",
    "df.describe().T"
   ]
  },
  {
   "cell_type": "markdown",
   "id": "effcc164",
   "metadata": {},
   "source": [
    "## 4. Data Cleaning\n",
    "- Handle missing values\n",
    "- Rename columns for consistency\n",
    "- Drop duplicates"
   ]
  },
  {
   "cell_type": "code",
   "execution_count": null,
   "id": "053cf879",
   "metadata": {},
   "outputs": [],
   "source": [
    "# Example cleaning steps\n",
    "df = df.dropna()               # remove missing values\n",
    "df = df.drop_duplicates()      # remove duplicate rows\n",
    "\n",
    "# Rename columns if needed\n",
    "df.columns = [col.strip().lower().replace(\" \", \"_\") for col in df.columns]\n",
    "df.head()"
   ]
  },
  {
   "cell_type": "markdown",
   "id": "bcf56d86",
   "metadata": {},
   "source": [
    "## 5. Exploratory Visualizations\n",
    "- Distribution of key stats\n",
    "- Correlations between performance and draft position"
   ]
  },
  {
   "cell_type": "code",
   "execution_count": null,
   "id": "fc4c4a46",
   "metadata": {},
   "outputs": [],
   "source": [
    "# Example histogram\n",
    "sns.histplot(df[\"passing_yards\"], bins=30, kde=True)\n",
    "plt.title(\"Distribution of Passing Yards\")\n",
    "plt.show()\n",
    "\n",
    "# Example correlation heatmap\n",
    "sns.heatmap(df.corr(), cmap=\"coolwarm\", annot=False)\n",
    "plt.title(\"Correlation Heatmap\")\n",
    "plt.show()"
   ]
  },
  {
   "cell_type": "markdown",
   "id": "b8c57c4b",
   "metadata": {},
   "source": [
    "## 6. Initial Insights\n",
    "- Note any interesting patterns (e.g., higher passing yards correlates with earlier draft rounds)."
   ]
  }
 ],
 "metadata": {
  "kernelspec": {
   "display_name": "cfb-nfl-draft-predictions",
   "language": "python",
   "name": "python3"
  },
  "language_info": {
   "codemirror_mode": {
    "name": "ipython",
    "version": 3
   },
   "file_extension": ".py",
   "mimetype": "text/x-python",
   "name": "python",
   "nbconvert_exporter": "python",
   "pygments_lexer": "ipython3",
   "version": "3.10.18"
  }
 },
 "nbformat": 4,
 "nbformat_minor": 5
}
